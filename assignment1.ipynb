# Harry Wang (use the largest heading)

## I know the following **programming languages**:

- **Python**
- **JavaScript**

I use [*StackOverflow*](https://stackoverflow.com/) to help debugging.
